{
  "cells": [
    {
      "cell_type": "markdown",
      "metadata": {
        "id": "bFWbEb6uGbN-"
      },
      "source": [
        "# Week 4: Predicting the next word\n",
        "\n",
        "Welcome to this assignment! During this week you saw how to create a model that will predict the next word in a text sequence, now you will implement such model and train it using a corpus of Shakespeare's sonnets, while also creating some helper functions to pre-process the data.\n",
        "\n",
        "\n",
        "Let's get started!"
      ]
    },
    {
      "cell_type": "code",
      "execution_count": 1,
      "metadata": {
        "id": "BOwsuGQQY9OL"
      },
      "outputs": [],
      "source": [
        "import numpy as np \n",
        "import matplotlib.pyplot as plt\n",
        "from tensorflow.keras.models import Sequential\n",
        "from tensorflow.keras.utils import to_categorical \n",
        "from tensorflow.keras.preprocessing.text import Tokenizer\n",
        "from tensorflow.keras.preprocessing.sequence import pad_sequences\n",
        "from tensorflow.keras.layers import Embedding, LSTM, Dense, Bidirectional"
      ]
    },
    {
      "cell_type": "markdown",
      "metadata": {
        "id": "BTxqlHqKHzhr"
      },
      "source": [
        "For this assignment you will be using the [Shakespeare Sonnets Dataset](https://www.opensourceshakespeare.org/views/sonnets/sonnet_view.php?range=viewrange&sonnetrange1=1&sonnetrange2=154), which contains more than 2000 lines of text extracted from Shakespeare's sonnets."
      ]
    },
    {
      "cell_type": "code",
      "execution_count": 2,
      "metadata": {
        "id": "WZ4qOUzujMP6",
        "colab": {
          "base_uri": "https://localhost:8080/"
        },
        "outputId": "a71f4cda-41d4-4c2f-b0f8-e3dc558aa325"
      },
      "outputs": [
        {
          "output_type": "stream",
          "name": "stdout",
          "text": [
            "/usr/local/lib/python3.7/dist-packages/gdown/cli.py:131: FutureWarning: Option `--id` was deprecated in version 4.3.1 and will be removed in 5.0. You don't need to pass it anymore to use a file ID.\n",
            "  category=FutureWarning,\n",
            "Downloading...\n",
            "From: https://drive.google.com/uc?id=108jAePKK4R3BVYBbYJZ32JWUwxeMg20K\n",
            "To: /content/sonnets.txt\n",
            "100% 93.6k/93.6k [00:00<00:00, 74.0MB/s]\n"
          ]
        }
      ],
      "source": [
        "# sonnets.txt\n",
        "!gdown --id 108jAePKK4R3BVYBbYJZ32JWUwxeMg20K"
      ]
    },
    {
      "cell_type": "code",
      "execution_count": 3,
      "metadata": {
        "id": "Pfd-nYKij5yY",
        "colab": {
          "base_uri": "https://localhost:8080/"
        },
        "outputId": "a8042b97-a02c-46b7-8131-89d127376cbe"
      },
      "outputs": [
        {
          "output_type": "stream",
          "name": "stdout",
          "text": [
            "There are 2159 lines of sonnets\n",
            "\n",
            "The first 5 lines look like this:\n",
            "\n",
            "from fairest creatures we desire increase,\n",
            "that thereby beauty's rose might never die,\n",
            "but as the riper should by time decease,\n",
            "his tender heir might bear his memory:\n",
            "but thou, contracted to thine own bright eyes,\n"
          ]
        }
      ],
      "source": [
        "# Define path for file with sonnets\n",
        "SONNETS_FILE = './sonnets.txt'\n",
        "\n",
        "# Read the data\n",
        "with open('./sonnets.txt') as f:\n",
        "    data = f.read()\n",
        "\n",
        "# Convert to lower case and save as a list\n",
        "corpus = data.lower().split(\"\\n\")\n",
        "\n",
        "print(f\"There are {len(corpus)} lines of sonnets\\n\")\n",
        "print(f\"The first 5 lines look like this:\\n\")\n",
        "for i in range(5):\n",
        "  print(corpus[i])"
      ]
    },
    {
      "cell_type": "markdown",
      "metadata": {
        "id": "imB15zrSNhA1"
      },
      "source": [
        "## Tokenizing the text\n",
        "\n",
        "Now fit the Tokenizer to the corpus and save the total number of words."
      ]
    },
    {
      "cell_type": "code",
      "execution_count": 4,
      "metadata": {
        "id": "AAhM_qAZk0o5"
      },
      "outputs": [],
      "source": [
        "tokenizer = Tokenizer()\n",
        "tokenizer.fit_on_texts(corpus)\n",
        "total_words = len(tokenizer.word_index) + 1"
      ]
    },
    {
      "cell_type": "markdown",
      "metadata": {
        "id": "77-0sA46OETa"
      },
      "source": [
        "When converting the text into sequences you can use the `texts_to_sequences` method as you have done throughout this course.\n",
        "\n",
        "In the next graded function you will need to process this corpus one line at a time. Given this, it is important to keep in mind that the way you are feeding the data unto this method affects the result. Check the following example to make this clearer.\n",
        "\n",
        "The first example of the corpus is a string and looks like this:"
      ]
    },
    {
      "cell_type": "code",
      "execution_count": 5,
      "metadata": {
        "id": "tqhPxdeXlfjh",
        "colab": {
          "base_uri": "https://localhost:8080/",
          "height": 35
        },
        "outputId": "2000b044-28e9-4851-a0fe-e4f3b040cab5"
      },
      "outputs": [
        {
          "output_type": "execute_result",
          "data": {
            "text/plain": [
              "'from fairest creatures we desire increase,'"
            ],
            "application/vnd.google.colaboratory.intrinsic+json": {
              "type": "string"
            }
          },
          "metadata": {},
          "execution_count": 5
        }
      ],
      "source": [
        "corpus[0]"
      ]
    },
    {
      "cell_type": "markdown",
      "metadata": {
        "id": "XFMP4z11O3os"
      },
      "source": [
        "If you pass this text directly into the `texts_to_sequences` method you will get an unexpected result:"
      ]
    },
    {
      "cell_type": "code",
      "execution_count": 6,
      "metadata": {
        "id": "EMSEhmbzNZCE",
        "colab": {
          "base_uri": "https://localhost:8080/"
        },
        "outputId": "27372961-f18e-43c7-f1d6-eb6520bfa817"
      },
      "outputs": [
        {
          "output_type": "execute_result",
          "data": {
            "text/plain": [
              "[[],\n",
              " [],\n",
              " [58],\n",
              " [],\n",
              " [],\n",
              " [],\n",
              " [17],\n",
              " [6],\n",
              " [],\n",
              " [],\n",
              " [],\n",
              " [],\n",
              " [],\n",
              " [],\n",
              " [],\n",
              " [],\n",
              " [17],\n",
              " [],\n",
              " [],\n",
              " [],\n",
              " [],\n",
              " [],\n",
              " [],\n",
              " [],\n",
              " [],\n",
              " [],\n",
              " [],\n",
              " [],\n",
              " [],\n",
              " [6],\n",
              " [],\n",
              " [],\n",
              " [],\n",
              " [6],\n",
              " [],\n",
              " [],\n",
              " [],\n",
              " [],\n",
              " [17],\n",
              " [],\n",
              " [],\n",
              " []]"
            ]
          },
          "metadata": {},
          "execution_count": 6
        }
      ],
      "source": [
        "tokenizer.texts_to_sequences(corpus[0])"
      ]
    },
    {
      "cell_type": "markdown",
      "metadata": {
        "id": "pPZmZtpEPEeI"
      },
      "source": [
        "This happened because `texts_to_sequences` expects a list and you are providing a string. However a string is still and `iterable` in Python so you will get the word index of every character in the string.\n",
        "\n",
        "Instead you need to place the example whithin a list before passing it to the method:"
      ]
    },
    {
      "cell_type": "code",
      "execution_count": 7,
      "metadata": {
        "id": "Qmgo-vXhk4nd",
        "colab": {
          "base_uri": "https://localhost:8080/"
        },
        "outputId": "55175cef-17d1-4967-b3aa-76d00afc90b4"
      },
      "outputs": [
        {
          "output_type": "execute_result",
          "data": {
            "text/plain": [
              "[[34, 417, 877, 166, 213, 517]]"
            ]
          },
          "metadata": {},
          "execution_count": 7
        }
      ],
      "source": [
        "tokenizer.texts_to_sequences([corpus[0]])"
      ]
    },
    {
      "cell_type": "markdown",
      "metadata": {
        "id": "0DU7wK-eQ5dc"
      },
      "source": [
        "Notice that you received the sequence wrapped inside a list so in order to get only the desired sequence you need to explicitly get the first item in the list like this:"
      ]
    },
    {
      "cell_type": "code",
      "execution_count": 8,
      "metadata": {
        "id": "kpTy8WmIQ57P",
        "colab": {
          "base_uri": "https://localhost:8080/"
        },
        "outputId": "c07e95cd-97cf-41db-e936-a6ca787a6469"
      },
      "outputs": [
        {
          "output_type": "execute_result",
          "data": {
            "text/plain": [
              "[34, 417, 877, 166, 213, 517]"
            ]
          },
          "metadata": {},
          "execution_count": 8
        }
      ],
      "source": [
        "tokenizer.texts_to_sequences([corpus[0]])[0]"
      ]
    },
    {
      "cell_type": "markdown",
      "metadata": {
        "id": "-oqy9KjXRJ9A"
      },
      "source": [
        "## Generating n_grams\n",
        "\n",
        "Now complete the `n_gram_seqs` function below. This function receives the fitted tokenizer and the corpus (which is a list of strings) and should return a list containing the `n_gram` sequences for each line in the corpus:"
      ]
    },
    {
      "cell_type": "code",
      "execution_count": 9,
      "metadata": {
        "id": "iy4baJMDl6kj"
      },
      "outputs": [],
      "source": [
        "# GRADED FUNCTION: n_gram_seqs\n",
        "def n_gram_seqs(corpus, tokenizer):\n",
        "\tinput_sequences = []\n",
        "\n",
        "\t### START CODE HERE\n",
        "\tfor line in corpus:\n",
        "\t\ttoken_list = tokenizer.texts_to_sequences([line])[0]\n",
        "\t\tfor i in range(1, len(token_list)):\n",
        "\t\t\tn_gram = token_list[:i+1]\n",
        "\t\t\tinput_sequences.append(n_gram)\n",
        "\n",
        "\t### END CODE HERE\n",
        "\t \n",
        "\treturn input_sequences"
      ]
    },
    {
      "cell_type": "code",
      "execution_count": 10,
      "metadata": {
        "id": "DlKqW2pfM7G3",
        "colab": {
          "base_uri": "https://localhost:8080/"
        },
        "outputId": "ac5680cf-d322-4c75-dedd-6ea1fa79012a"
      },
      "outputs": [
        {
          "output_type": "stream",
          "name": "stdout",
          "text": [
            "n_gram sequences for first example look like this:\n",
            "\n"
          ]
        },
        {
          "output_type": "execute_result",
          "data": {
            "text/plain": [
              "[[34, 417],\n",
              " [34, 417, 877],\n",
              " [34, 417, 877, 166],\n",
              " [34, 417, 877, 166, 213],\n",
              " [34, 417, 877, 166, 213, 517]]"
            ]
          },
          "metadata": {},
          "execution_count": 10
        }
      ],
      "source": [
        "# Test your function with one example\n",
        "first_example_sequence = n_gram_seqs([corpus[0]], tokenizer)\n",
        "\n",
        "print(\"n_gram sequences for first example look like this:\\n\")\n",
        "first_example_sequence"
      ]
    },
    {
      "cell_type": "markdown",
      "metadata": {
        "id": "0HL8Ug6UU0Jt"
      },
      "source": [
        "**Expected Output:**\n",
        "\n",
        "```\n",
        "n_gram sequences for first example look like this:\n",
        "\n",
        "[[34, 417],\n",
        " [34, 417, 877],\n",
        " [34, 417, 877, 166],\n",
        " [34, 417, 877, 166, 213],\n",
        " [34, 417, 877, 166, 213, 517]]\n",
        "```"
      ]
    },
    {
      "cell_type": "code",
      "execution_count": 11,
      "metadata": {
        "id": "wtPpCcBjNc4c",
        "colab": {
          "base_uri": "https://localhost:8080/"
        },
        "outputId": "86bc335a-f22d-412f-94a9-12ce751c00a8"
      },
      "outputs": [
        {
          "output_type": "stream",
          "name": "stdout",
          "text": [
            "n_gram sequences for next 3 examples look like this:\n",
            "\n"
          ]
        },
        {
          "output_type": "execute_result",
          "data": {
            "text/plain": [
              "[[8, 878],\n",
              " [8, 878, 134],\n",
              " [8, 878, 134, 351],\n",
              " [8, 878, 134, 351, 102],\n",
              " [8, 878, 134, 351, 102, 156],\n",
              " [8, 878, 134, 351, 102, 156, 199],\n",
              " [16, 22],\n",
              " [16, 22, 2],\n",
              " [16, 22, 2, 879],\n",
              " [16, 22, 2, 879, 61],\n",
              " [16, 22, 2, 879, 61, 30],\n",
              " [16, 22, 2, 879, 61, 30, 48],\n",
              " [16, 22, 2, 879, 61, 30, 48, 634],\n",
              " [25, 311],\n",
              " [25, 311, 635],\n",
              " [25, 311, 635, 102],\n",
              " [25, 311, 635, 102, 200],\n",
              " [25, 311, 635, 102, 200, 25],\n",
              " [25, 311, 635, 102, 200, 25, 278]]"
            ]
          },
          "metadata": {},
          "execution_count": 11
        }
      ],
      "source": [
        "# Test your function with a bigger corpus\n",
        "next_3_examples_sequence = n_gram_seqs(corpus[1:4], tokenizer)\n",
        "\n",
        "print(\"n_gram sequences for next 3 examples look like this:\\n\")\n",
        "next_3_examples_sequence"
      ]
    },
    {
      "cell_type": "markdown",
      "metadata": {
        "id": "EIzecMczU9UB"
      },
      "source": [
        "**Expected Output:**\n",
        "\n",
        "```\n",
        "n_gram sequences for next 3 examples look like this:\n",
        "\n",
        "[[8, 878],\n",
        " [8, 878, 134],\n",
        " [8, 878, 134, 351],\n",
        " [8, 878, 134, 351, 102],\n",
        " [8, 878, 134, 351, 102, 156],\n",
        " [8, 878, 134, 351, 102, 156, 199],\n",
        " [16, 22],\n",
        " [16, 22, 2],\n",
        " [16, 22, 2, 879],\n",
        " [16, 22, 2, 879, 61],\n",
        " [16, 22, 2, 879, 61, 30],\n",
        " [16, 22, 2, 879, 61, 30, 48],\n",
        " [16, 22, 2, 879, 61, 30, 48, 634],\n",
        " [25, 311],\n",
        " [25, 311, 635],\n",
        " [25, 311, 635, 102],\n",
        " [25, 311, 635, 102, 200],\n",
        " [25, 311, 635, 102, 200, 25],\n",
        " [25, 311, 635, 102, 200, 25, 278]]\n",
        "```"
      ]
    },
    {
      "cell_type": "markdown",
      "metadata": {
        "id": "dx3V_RjFWQSu"
      },
      "source": [
        "Apply the `n_gram_seqs` transformation to the whole corpus and save the maximum sequence length to use it later:"
      ]
    },
    {
      "cell_type": "code",
      "execution_count": 12,
      "metadata": {
        "id": "laMwiRUpmuSd",
        "colab": {
          "base_uri": "https://localhost:8080/"
        },
        "outputId": "2daded5c-8779-4e6f-cc86-699e3b4d265e"
      },
      "outputs": [
        {
          "output_type": "stream",
          "name": "stdout",
          "text": [
            "n_grams of input_sequences have length: 15462\n",
            "maximum length of sequences is: 11\n"
          ]
        }
      ],
      "source": [
        "# Apply the n_gram_seqs transformation to the whole corpus\n",
        "input_sequences = n_gram_seqs(corpus, tokenizer)\n",
        "\n",
        "# Save max length \n",
        "max_sequence_len = max([len(x) for x in input_sequences])\n",
        "\n",
        "print(f\"n_grams of input_sequences have length: {len(input_sequences)}\")\n",
        "print(f\"maximum length of sequences is: {max_sequence_len}\")"
      ]
    },
    {
      "cell_type": "markdown",
      "metadata": {
        "id": "2OciMdmEdE9L"
      },
      "source": [
        "**Expected Output:**\n",
        "\n",
        "```\n",
        "n_grams of input_sequences have length: 15462\n",
        "maximum length of sequences is: 11\n",
        "```"
      ]
    },
    {
      "cell_type": "markdown",
      "metadata": {
        "id": "zHY7HroqWq12"
      },
      "source": [
        "## Add padding to the sequences\n",
        "\n",
        "Now code the `pad_seqs` function which will pad any given sequences to the desired maximum length. Notice that this function receives a list of sequences and should return a numpy array with the padded sequences: "
      ]
    },
    {
      "cell_type": "code",
      "execution_count": 13,
      "metadata": {
        "cellView": "code",
        "id": "WW1-qAZaWOhC"
      },
      "outputs": [],
      "source": [
        "# GRADED FUNCTION: pad_seqs\n",
        "def pad_seqs(input_sequences, maxlen):\n",
        "    ### START CODE HERE\n",
        "    padded_sequences = pad_sequences(input_sequences, maxlen=maxlen)\n",
        "    \n",
        "    return padded_sequences\n",
        "    ### END CODE HERE"
      ]
    },
    {
      "cell_type": "code",
      "execution_count": 14,
      "metadata": {
        "id": "IqVQ0pb3YHLr",
        "colab": {
          "base_uri": "https://localhost:8080/"
        },
        "outputId": "b0c17123-4cf8-48f8-ac63-fb495bc14690"
      },
      "outputs": [
        {
          "output_type": "execute_result",
          "data": {
            "text/plain": [
              "array([[  0,   0,   0,  34, 417],\n",
              "       [  0,   0,  34, 417, 877],\n",
              "       [  0,  34, 417, 877, 166],\n",
              "       [ 34, 417, 877, 166, 213],\n",
              "       [417, 877, 166, 213, 517]], dtype=int32)"
            ]
          },
          "metadata": {},
          "execution_count": 14
        }
      ],
      "source": [
        "# Test your function with the n_grams_seq of the first example\n",
        "first_padded_seq = pad_seqs(first_example_sequence, len(first_example_sequence))\n",
        "first_padded_seq"
      ]
    },
    {
      "cell_type": "markdown",
      "metadata": {
        "id": "Re_avDznXRnU"
      },
      "source": [
        "**Expected Output:**\n",
        "\n",
        "```\n",
        "array([[  0,   0,   0,  34, 417],\n",
        "       [  0,   0,  34, 417, 877],\n",
        "       [  0,  34, 417, 877, 166],\n",
        "       [ 34, 417, 877, 166, 213],\n",
        "       [417, 877, 166, 213, 517]], dtype=int32)\n",
        "```"
      ]
    },
    {
      "cell_type": "code",
      "execution_count": 15,
      "metadata": {
        "id": "j56_UCOBYzZt",
        "colab": {
          "base_uri": "https://localhost:8080/"
        },
        "outputId": "96abc5e5-e7e4-4c6d-a29d-37afa360572a"
      },
      "outputs": [
        {
          "output_type": "execute_result",
          "data": {
            "text/plain": [
              "array([[  0,   0,   0,   0,   0,   0,   8, 878],\n",
              "       [  0,   0,   0,   0,   0,   8, 878, 134],\n",
              "       [  0,   0,   0,   0,   8, 878, 134, 351],\n",
              "       [  0,   0,   0,   8, 878, 134, 351, 102],\n",
              "       [  0,   0,   8, 878, 134, 351, 102, 156],\n",
              "       [  0,   8, 878, 134, 351, 102, 156, 199],\n",
              "       [  0,   0,   0,   0,   0,   0,  16,  22],\n",
              "       [  0,   0,   0,   0,   0,  16,  22,   2],\n",
              "       [  0,   0,   0,   0,  16,  22,   2, 879],\n",
              "       [  0,   0,   0,  16,  22,   2, 879,  61],\n",
              "       [  0,   0,  16,  22,   2, 879,  61,  30],\n",
              "       [  0,  16,  22,   2, 879,  61,  30,  48],\n",
              "       [ 16,  22,   2, 879,  61,  30,  48, 634],\n",
              "       [  0,   0,   0,   0,   0,   0,  25, 311],\n",
              "       [  0,   0,   0,   0,   0,  25, 311, 635],\n",
              "       [  0,   0,   0,   0,  25, 311, 635, 102],\n",
              "       [  0,   0,   0,  25, 311, 635, 102, 200],\n",
              "       [  0,   0,  25, 311, 635, 102, 200,  25],\n",
              "       [  0,  25, 311, 635, 102, 200,  25, 278]], dtype=int32)"
            ]
          },
          "metadata": {},
          "execution_count": 15
        }
      ],
      "source": [
        "# Test your function with the n_grams_seq of the next 3 examples\n",
        "next_3_padded_seq = pad_seqs(next_3_examples_sequence, max([len(s) for s in next_3_examples_sequence]))\n",
        "next_3_padded_seq"
      ]
    },
    {
      "cell_type": "markdown",
      "metadata": {
        "id": "3rmcDluOXcIU"
      },
      "source": [
        "**Expected Output:**\n",
        "\n",
        "```\n",
        "array([[  0,   0,   0,   0,   0,   0,   8, 878],\n",
        "       [  0,   0,   0,   0,   0,   8, 878, 134],\n",
        "       [  0,   0,   0,   0,   8, 878, 134, 351],\n",
        "       [  0,   0,   0,   8, 878, 134, 351, 102],\n",
        "       [  0,   0,   8, 878, 134, 351, 102, 156],\n",
        "       [  0,   8, 878, 134, 351, 102, 156, 199],\n",
        "       [  0,   0,   0,   0,   0,   0,  16,  22],\n",
        "       [  0,   0,   0,   0,   0,  16,  22,   2],\n",
        "       [  0,   0,   0,   0,  16,  22,   2, 879],\n",
        "       [  0,   0,   0,  16,  22,   2, 879,  61],\n",
        "       [  0,   0,  16,  22,   2, 879,  61,  30],\n",
        "       [  0,  16,  22,   2, 879,  61,  30,  48],\n",
        "       [ 16,  22,   2, 879,  61,  30,  48, 634],\n",
        "       [  0,   0,   0,   0,   0,   0,  25, 311],\n",
        "       [  0,   0,   0,   0,   0,  25, 311, 635],\n",
        "       [  0,   0,   0,   0,  25, 311, 635, 102],\n",
        "       [  0,   0,   0,  25, 311, 635, 102, 200],\n",
        "       [  0,   0,  25, 311, 635, 102, 200,  25],\n",
        "       [  0,  25, 311, 635, 102, 200,  25, 278]], dtype=int32)\n",
        "```"
      ]
    },
    {
      "cell_type": "code",
      "execution_count": 16,
      "metadata": {
        "id": "rgK-Q_micEYA",
        "colab": {
          "base_uri": "https://localhost:8080/"
        },
        "outputId": "09bb712a-ebdd-4e06-fd39-6131ed90dec1"
      },
      "outputs": [
        {
          "output_type": "stream",
          "name": "stdout",
          "text": [
            "padded corpus has shape: (15462, 11)\n"
          ]
        }
      ],
      "source": [
        "# Pad the whole corpus\n",
        "input_sequences = pad_seqs(input_sequences, max_sequence_len)\n",
        "\n",
        "print(f\"padded corpus has shape: {input_sequences.shape}\")"
      ]
    },
    {
      "cell_type": "markdown",
      "metadata": {
        "id": "59RD1YYNc7CW"
      },
      "source": [
        "**Expected Output:**\n",
        "\n",
        "```\n",
        "padded corpus has shape: (15462, 11)\n",
        "```"
      ]
    },
    {
      "cell_type": "markdown",
      "metadata": {
        "id": "ZbOidyPrXxf7"
      },
      "source": [
        "## Split the data into features and labels\n",
        "\n",
        "Before feeding the data into the neural network you should split it into features and labels. In this case the features will be the padded n_gram sequences with the last word removed from them and the labels will be the removed word.\n",
        "\n",
        "Complete the `features_and_labels` function below. This function expects the padded n_gram sequences as input and should return a tuple containing the features and the one hot encoded labels.\n",
        "\n",
        "Notice that the function also receives the total of words in the corpus, this parameter will be very important when one hot enconding the labels since every word in the corpus will be a label at least once. If you need a refresh of how the `to_categorical` function works take a look at the [docs](https://www.tensorflow.org/api_docs/python/tf/keras/utils/to_categorical)"
      ]
    },
    {
      "cell_type": "code",
      "execution_count": 17,
      "metadata": {
        "cellView": "code",
        "id": "9WGGbYdnZdmJ"
      },
      "outputs": [],
      "source": [
        "# GRADED FUNCTION: features_and_labels\n",
        "import tensorflow as tf \n",
        "def features_and_labels(input_sequences, total_words):\n",
        "    ### START CODE HERE\n",
        "    features = input_sequences[:, :-1]\n",
        "    labels = input_sequences[:, -1]\n",
        "    one_hot_labels = tf.keras.utils.to_categorical(labels, num_classes= total_words)\n",
        "    ### END CODE HERE\n",
        "\n",
        "    return features, one_hot_labels"
      ]
    },
    {
      "cell_type": "code",
      "execution_count": 18,
      "metadata": {
        "id": "23DolaBRaIAZ",
        "colab": {
          "base_uri": "https://localhost:8080/"
        },
        "outputId": "c861991f-6dca-448f-f3b9-8aaacc3ea621"
      },
      "outputs": [
        {
          "output_type": "stream",
          "name": "stdout",
          "text": [
            "labels have shape: (5, 3211)\n",
            "\n",
            "features look like this:\n",
            "\n"
          ]
        },
        {
          "output_type": "execute_result",
          "data": {
            "text/plain": [
              "array([[  0,   0,   0,  34],\n",
              "       [  0,   0,  34, 417],\n",
              "       [  0,  34, 417, 877],\n",
              "       [ 34, 417, 877, 166],\n",
              "       [417, 877, 166, 213]], dtype=int32)"
            ]
          },
          "metadata": {},
          "execution_count": 18
        }
      ],
      "source": [
        "# Test your function with the padded n_grams_seq of the first example\n",
        "first_features, first_labels = features_and_labels(first_padded_seq, total_words)\n",
        "\n",
        "print(f\"labels have shape: {first_labels.shape}\")\n",
        "print(\"\\nfeatures look like this:\\n\")\n",
        "first_features"
      ]
    },
    {
      "cell_type": "markdown",
      "metadata": {
        "id": "7t4yAx2UaQ43"
      },
      "source": [
        "**Expected Output:**\n",
        "\n",
        "```\n",
        "labels have shape: (5, 3211)\n",
        "\n",
        "features look like this:\n",
        "\n",
        "array([[  0,   0,   0,  34],\n",
        "       [  0,   0,  34, 417],\n",
        "       [  0,  34, 417, 877],\n",
        "       [ 34, 417, 877, 166],\n",
        "       [417, 877, 166, 213]], dtype=int32)\n",
        "```"
      ]
    },
    {
      "cell_type": "code",
      "execution_count": 19,
      "metadata": {
        "id": "GRTuLEt3bRKa",
        "colab": {
          "base_uri": "https://localhost:8080/"
        },
        "outputId": "d79044cc-7ebd-4c63-d5cc-1267e6843ac4"
      },
      "outputs": [
        {
          "output_type": "stream",
          "name": "stdout",
          "text": [
            "features have shape: (15462, 10)\n",
            "labels have shape: (15462, 3211)\n"
          ]
        }
      ],
      "source": [
        "# Split the whole corpus\n",
        "features, labels = features_and_labels(input_sequences, total_words)\n",
        "\n",
        "print(f\"features have shape: {features.shape}\")\n",
        "print(f\"labels have shape: {labels.shape}\")"
      ]
    },
    {
      "cell_type": "markdown",
      "metadata": {
        "id": "xXSMK_HpdLns"
      },
      "source": [
        "**Expected Output:**\n",
        "\n",
        "```\n",
        "features have shape: (15462, 10)\n",
        "labels have shape: (15462, 3211)\n",
        "```"
      ]
    },
    {
      "cell_type": "markdown",
      "metadata": {
        "id": "ltxaOCE_aU6J"
      },
      "source": [
        "## Create the model\n",
        "\n",
        "Now you should define a model architecture capable of achieving an accuracy of at least 80%.\n",
        "\n",
        "Some hints to help you in this task:\n",
        "\n",
        "- An appropriate `output_dim` for the first layer (Embedding) is 100, this is already provided for you.\n",
        "- A Bidirectional LSTM is helpful for this particular problem.\n",
        "- The last layer should have the same number of units as the total number of words in the corpus and a softmax activation function.\n",
        "- This problem can be solved with only two layers (excluding the Embedding) so try out small architectures first."
      ]
    },
    {
      "cell_type": "code",
      "execution_count": 57,
      "metadata": {
        "cellView": "code",
        "id": "XrE6kpJFfvRY"
      },
      "outputs": [],
      "source": [
        "# GRADED FUNCTION: create_model\n",
        "def create_model(total_words, max_sequence_len):\n",
        "    \n",
        "    model = Sequential()\n",
        "    ### START CODE HERE\n",
        "    model.add(Embedding(total_words, 100, input_length=max_sequence_len-1))\n",
        "    \n",
        "    #Embedding, LSTM, Dense, Bidirectional\n",
        "    model.add(Bidirectional(LSTM(200)))\n",
        "    #model.add(Dense(total_words, activation=\"softmax\"))\n",
        "\n",
        "    #model.add(tf.keras.layers.Dropout(0.2))\n",
        "    #model.add(tf.keras.layers.Conv1D(44, 5, activation='relu'))\n",
        "    #model.add(tf.keras.layers.MaxPooling1D(pool_size=4))\n",
        "    #model.add(tf.keras.layers.Bidirectional(tf.keras.layers.LSTM(64, return_sequences=True)))\n",
        "    #model.add(tf.keras.layers.Bidirectional(tf.keras.layers.GRU(64)))\n",
        "    #model.add(tf.keras.layers.Dense(64, activation=\"relu\"))\n",
        "    #model.add(tf.keras.layers.Dropout(0.2))\n",
        "    #model.add(tf.keras.layers.Dense(32, activation=\"relu\"))\n",
        "    model.add(Dense(total_words, activation='softmax'))\n",
        "\n",
        "    adam = tf.keras.optimizers.Adam(learning_rate=0.001)\n",
        "\n",
        "    # Compile the model\n",
        "    model.compile(loss=\"categorical_crossentropy\",\n",
        "                  optimizer=adam,\n",
        "                  metrics=['accuracy'])\n",
        "    \n",
        "    ### END CODE HERE\n",
        "\n",
        "    return model"
      ]
    },
    {
      "cell_type": "code",
      "execution_count": 58,
      "metadata": {
        "id": "0IpX_Gu_gISk",
        "colab": {
          "base_uri": "https://localhost:8080/"
        },
        "outputId": "7086323e-258c-4148-a609-91be8a4a18ea"
      },
      "outputs": [
        {
          "output_type": "stream",
          "name": "stdout",
          "text": [
            "Epoch 1/150\n",
            "484/484 [==============================] - 12s 17ms/step - loss: 6.8500 - accuracy: 0.0252\n",
            "Epoch 2/150\n",
            "484/484 [==============================] - 8s 16ms/step - loss: 6.3850 - accuracy: 0.0337\n",
            "Epoch 3/150\n",
            "484/484 [==============================] - 8s 16ms/step - loss: 6.1283 - accuracy: 0.0436\n",
            "Epoch 4/150\n",
            "484/484 [==============================] - 7s 15ms/step - loss: 5.8379 - accuracy: 0.0557\n",
            "Epoch 5/150\n",
            "484/484 [==============================] - 7s 15ms/step - loss: 5.4982 - accuracy: 0.0668\n",
            "Epoch 6/150\n",
            "484/484 [==============================] - 7s 15ms/step - loss: 5.0928 - accuracy: 0.0827\n",
            "Epoch 7/150\n",
            "484/484 [==============================] - 7s 15ms/step - loss: 4.6196 - accuracy: 0.1121\n",
            "Epoch 8/150\n",
            "484/484 [==============================] - 7s 15ms/step - loss: 4.1125 - accuracy: 0.1665\n",
            "Epoch 9/150\n",
            "484/484 [==============================] - 7s 15ms/step - loss: 3.5970 - accuracy: 0.2516\n",
            "Epoch 10/150\n",
            "484/484 [==============================] - 7s 15ms/step - loss: 3.1280 - accuracy: 0.3360\n",
            "Epoch 11/150\n",
            "484/484 [==============================] - 7s 15ms/step - loss: 2.7134 - accuracy: 0.4205\n",
            "Epoch 12/150\n",
            "484/484 [==============================] - 7s 15ms/step - loss: 2.3584 - accuracy: 0.4984\n",
            "Epoch 13/150\n",
            "484/484 [==============================] - 7s 15ms/step - loss: 2.0605 - accuracy: 0.5590\n",
            "Epoch 14/150\n",
            "484/484 [==============================] - 7s 15ms/step - loss: 1.8132 - accuracy: 0.6160\n",
            "Epoch 15/150\n",
            "484/484 [==============================] - 7s 15ms/step - loss: 1.5988 - accuracy: 0.6629\n",
            "Epoch 16/150\n",
            "484/484 [==============================] - 7s 15ms/step - loss: 1.4155 - accuracy: 0.7055\n",
            "Epoch 17/150\n",
            "484/484 [==============================] - 7s 15ms/step - loss: 1.2620 - accuracy: 0.7376\n",
            "Epoch 18/150\n",
            "484/484 [==============================] - 7s 15ms/step - loss: 1.1305 - accuracy: 0.7672\n",
            "Epoch 19/150\n",
            "484/484 [==============================] - 7s 15ms/step - loss: 1.0233 - accuracy: 0.7876\n",
            "Epoch 20/150\n",
            "484/484 [==============================] - 7s 15ms/step - loss: 0.9453 - accuracy: 0.8019\n",
            "Epoch 21/150\n",
            "484/484 [==============================] - 7s 15ms/step - loss: 0.8779 - accuracy: 0.8157\n",
            "Epoch 22/150\n",
            "484/484 [==============================] - 7s 15ms/step - loss: 0.8235 - accuracy: 0.8232\n",
            "Epoch 23/150\n",
            "484/484 [==============================] - 7s 15ms/step - loss: 0.7783 - accuracy: 0.8300\n",
            "Epoch 24/150\n",
            "484/484 [==============================] - 7s 15ms/step - loss: 0.7439 - accuracy: 0.8339\n",
            "Epoch 25/150\n",
            "484/484 [==============================] - 7s 15ms/step - loss: 0.7167 - accuracy: 0.8376\n",
            "Epoch 26/150\n",
            "484/484 [==============================] - 7s 15ms/step - loss: 0.6894 - accuracy: 0.8417\n",
            "Epoch 27/150\n",
            "484/484 [==============================] - 7s 15ms/step - loss: 0.6764 - accuracy: 0.8414\n",
            "Epoch 28/150\n",
            "484/484 [==============================] - 7s 15ms/step - loss: 0.6608 - accuracy: 0.8437\n",
            "Epoch 29/150\n",
            "484/484 [==============================] - 7s 15ms/step - loss: 0.6400 - accuracy: 0.8454\n",
            "Epoch 30/150\n",
            "484/484 [==============================] - 7s 15ms/step - loss: 0.6380 - accuracy: 0.8467\n",
            "Epoch 31/150\n",
            "484/484 [==============================] - 7s 15ms/step - loss: 0.6285 - accuracy: 0.8468\n",
            "Epoch 32/150\n",
            "484/484 [==============================] - 7s 15ms/step - loss: 0.6205 - accuracy: 0.8470\n",
            "Epoch 33/150\n",
            "484/484 [==============================] - 7s 15ms/step - loss: 0.6117 - accuracy: 0.8467\n",
            "Epoch 34/150\n",
            "484/484 [==============================] - 7s 15ms/step - loss: 0.6046 - accuracy: 0.8479\n",
            "Epoch 35/150\n",
            "484/484 [==============================] - 7s 15ms/step - loss: 0.5972 - accuracy: 0.8476\n",
            "Epoch 36/150\n",
            "484/484 [==============================] - 7s 15ms/step - loss: 0.5949 - accuracy: 0.8496\n",
            "Epoch 37/150\n",
            "484/484 [==============================] - 7s 15ms/step - loss: 0.5899 - accuracy: 0.8501\n",
            "Epoch 38/150\n",
            "484/484 [==============================] - 7s 15ms/step - loss: 0.5860 - accuracy: 0.8487\n",
            "Epoch 39/150\n",
            "484/484 [==============================] - 7s 15ms/step - loss: 0.5800 - accuracy: 0.8495\n",
            "Epoch 40/150\n",
            "484/484 [==============================] - 7s 15ms/step - loss: 0.5798 - accuracy: 0.8490\n",
            "Epoch 41/150\n",
            "484/484 [==============================] - 7s 15ms/step - loss: 0.5763 - accuracy: 0.8497\n",
            "Epoch 42/150\n",
            "484/484 [==============================] - 7s 15ms/step - loss: 0.5734 - accuracy: 0.8500\n",
            "Epoch 43/150\n",
            "484/484 [==============================] - 7s 15ms/step - loss: 0.5713 - accuracy: 0.8489\n",
            "Epoch 44/150\n",
            "484/484 [==============================] - 7s 15ms/step - loss: 0.5603 - accuracy: 0.8503\n",
            "Epoch 45/150\n",
            "484/484 [==============================] - 7s 15ms/step - loss: 0.5616 - accuracy: 0.8497\n",
            "Epoch 46/150\n",
            "484/484 [==============================] - 7s 15ms/step - loss: 0.5590 - accuracy: 0.8502\n",
            "Epoch 47/150\n",
            "484/484 [==============================] - 7s 15ms/step - loss: 0.5700 - accuracy: 0.8465\n",
            "Epoch 48/150\n",
            "484/484 [==============================] - 7s 15ms/step - loss: 0.5739 - accuracy: 0.8456\n",
            "Epoch 49/150\n",
            "484/484 [==============================] - 7s 15ms/step - loss: 0.5562 - accuracy: 0.8481\n",
            "Epoch 50/150\n",
            "484/484 [==============================] - 7s 15ms/step - loss: 0.5500 - accuracy: 0.8507\n",
            "Epoch 51/150\n",
            "484/484 [==============================] - 7s 15ms/step - loss: 0.5459 - accuracy: 0.8501\n",
            "Epoch 52/150\n",
            "484/484 [==============================] - 7s 15ms/step - loss: 0.5470 - accuracy: 0.8480\n",
            "Epoch 53/150\n",
            "484/484 [==============================] - 7s 15ms/step - loss: 0.5475 - accuracy: 0.8490\n",
            "Epoch 54/150\n",
            "484/484 [==============================] - 7s 15ms/step - loss: 0.5445 - accuracy: 0.8490\n",
            "Epoch 55/150\n",
            "484/484 [==============================] - 7s 15ms/step - loss: 0.5425 - accuracy: 0.8496\n",
            "Epoch 56/150\n",
            "484/484 [==============================] - 7s 15ms/step - loss: 0.5426 - accuracy: 0.8497\n",
            "Epoch 57/150\n",
            "484/484 [==============================] - 7s 15ms/step - loss: 0.5428 - accuracy: 0.8492\n",
            "Epoch 58/150\n",
            "484/484 [==============================] - 7s 15ms/step - loss: 0.5481 - accuracy: 0.8481\n",
            "Epoch 59/150\n",
            "484/484 [==============================] - 7s 15ms/step - loss: 0.5394 - accuracy: 0.8500\n",
            "Epoch 60/150\n",
            "484/484 [==============================] - 7s 15ms/step - loss: 0.5337 - accuracy: 0.8498\n",
            "Epoch 61/150\n",
            "484/484 [==============================] - 7s 15ms/step - loss: 0.5286 - accuracy: 0.8498\n",
            "Epoch 62/150\n",
            "484/484 [==============================] - 7s 15ms/step - loss: 0.5294 - accuracy: 0.8501\n",
            "Epoch 63/150\n",
            "484/484 [==============================] - 7s 15ms/step - loss: 0.5298 - accuracy: 0.8490\n",
            "Epoch 64/150\n",
            "484/484 [==============================] - 7s 15ms/step - loss: 0.5285 - accuracy: 0.8509\n",
            "Epoch 65/150\n",
            "484/484 [==============================] - 7s 15ms/step - loss: 0.5296 - accuracy: 0.8500\n",
            "Epoch 66/150\n",
            "484/484 [==============================] - 7s 15ms/step - loss: 0.5290 - accuracy: 0.8497\n",
            "Epoch 67/150\n",
            "484/484 [==============================] - 7s 15ms/step - loss: 0.5324 - accuracy: 0.8485\n",
            "Epoch 68/150\n",
            "484/484 [==============================] - 7s 15ms/step - loss: 0.5281 - accuracy: 0.8494\n",
            "Epoch 69/150\n",
            "484/484 [==============================] - 7s 15ms/step - loss: 0.5226 - accuracy: 0.8503\n",
            "Epoch 70/150\n",
            "484/484 [==============================] - 7s 15ms/step - loss: 0.5176 - accuracy: 0.8515\n",
            "Epoch 71/150\n",
            "484/484 [==============================] - 7s 15ms/step - loss: 0.5170 - accuracy: 0.8503\n",
            "Epoch 72/150\n",
            "484/484 [==============================] - 7s 15ms/step - loss: 0.5182 - accuracy: 0.8506\n",
            "Epoch 73/150\n",
            "484/484 [==============================] - 7s 15ms/step - loss: 0.5169 - accuracy: 0.8501\n",
            "Epoch 74/150\n",
            "484/484 [==============================] - 7s 15ms/step - loss: 0.5177 - accuracy: 0.8498\n",
            "Epoch 75/150\n",
            "484/484 [==============================] - 7s 15ms/step - loss: 0.5158 - accuracy: 0.8512\n",
            "Epoch 76/150\n",
            "484/484 [==============================] - 7s 15ms/step - loss: 0.5156 - accuracy: 0.8501\n",
            "Epoch 77/150\n",
            "484/484 [==============================] - 7s 15ms/step - loss: 0.5265 - accuracy: 0.8479\n",
            "Epoch 78/150\n",
            "484/484 [==============================] - 7s 15ms/step - loss: 0.5475 - accuracy: 0.8419\n",
            "Epoch 79/150\n",
            "484/484 [==============================] - 7s 15ms/step - loss: 0.5142 - accuracy: 0.8486\n",
            "Epoch 80/150\n",
            "484/484 [==============================] - 7s 15ms/step - loss: 0.5043 - accuracy: 0.8505\n",
            "Epoch 81/150\n",
            "484/484 [==============================] - 7s 15ms/step - loss: 0.5047 - accuracy: 0.8508\n",
            "Epoch 82/150\n",
            "484/484 [==============================] - 7s 15ms/step - loss: 0.5055 - accuracy: 0.8503\n",
            "Epoch 83/150\n",
            "484/484 [==============================] - 7s 15ms/step - loss: 0.5054 - accuracy: 0.8507\n",
            "Epoch 84/150\n",
            "484/484 [==============================] - 7s 15ms/step - loss: 0.5059 - accuracy: 0.8511\n",
            "Epoch 85/150\n",
            "484/484 [==============================] - 7s 15ms/step - loss: 0.5057 - accuracy: 0.8507\n",
            "Epoch 86/150\n",
            "484/484 [==============================] - 7s 15ms/step - loss: 0.5065 - accuracy: 0.8509\n",
            "Epoch 87/150\n",
            "484/484 [==============================] - 7s 15ms/step - loss: 0.5073 - accuracy: 0.8512\n",
            "Epoch 88/150\n",
            "484/484 [==============================] - 7s 15ms/step - loss: 0.5064 - accuracy: 0.8501\n",
            "Epoch 89/150\n",
            "484/484 [==============================] - 7s 15ms/step - loss: 0.5033 - accuracy: 0.8505\n",
            "Epoch 90/150\n",
            "484/484 [==============================] - 7s 15ms/step - loss: 0.5026 - accuracy: 0.8518\n",
            "Epoch 91/150\n",
            "484/484 [==============================] - 7s 15ms/step - loss: 0.5013 - accuracy: 0.8517\n",
            "Epoch 92/150\n",
            "484/484 [==============================] - 7s 15ms/step - loss: 0.5034 - accuracy: 0.8493\n",
            "Epoch 93/150\n",
            "484/484 [==============================] - 7s 15ms/step - loss: 0.5140 - accuracy: 0.8484\n",
            "Epoch 94/150\n",
            "484/484 [==============================] - 7s 15ms/step - loss: 0.5793 - accuracy: 0.8308\n",
            "Epoch 95/150\n",
            "484/484 [==============================] - 7s 15ms/step - loss: 0.5046 - accuracy: 0.8490\n",
            "Epoch 96/150\n",
            "484/484 [==============================] - 7s 15ms/step - loss: 0.4914 - accuracy: 0.8511\n",
            "Epoch 97/150\n",
            "484/484 [==============================] - 7s 15ms/step - loss: 0.4910 - accuracy: 0.8524\n",
            "Epoch 98/150\n",
            "484/484 [==============================] - 7s 15ms/step - loss: 0.4920 - accuracy: 0.8520\n",
            "Epoch 99/150\n",
            "484/484 [==============================] - 7s 15ms/step - loss: 0.4928 - accuracy: 0.8507\n",
            "Epoch 100/150\n",
            "484/484 [==============================] - 7s 15ms/step - loss: 0.4934 - accuracy: 0.8515\n",
            "Epoch 101/150\n",
            "484/484 [==============================] - 7s 15ms/step - loss: 0.4948 - accuracy: 0.8507\n",
            "Epoch 102/150\n",
            "484/484 [==============================] - 7s 15ms/step - loss: 0.4951 - accuracy: 0.8508\n",
            "Epoch 103/150\n",
            "484/484 [==============================] - 7s 15ms/step - loss: 0.4952 - accuracy: 0.8509\n",
            "Epoch 104/150\n",
            "484/484 [==============================] - 7s 15ms/step - loss: 0.4961 - accuracy: 0.8507\n",
            "Epoch 105/150\n",
            "484/484 [==============================] - 7s 15ms/step - loss: 0.4952 - accuracy: 0.8504\n",
            "Epoch 106/150\n",
            "484/484 [==============================] - 7s 15ms/step - loss: 0.4944 - accuracy: 0.8517\n",
            "Epoch 107/150\n",
            "484/484 [==============================] - 7s 15ms/step - loss: 0.5074 - accuracy: 0.8490\n",
            "Epoch 108/150\n",
            "484/484 [==============================] - 7s 15ms/step - loss: 0.5505 - accuracy: 0.8367\n",
            "Epoch 109/150\n",
            "484/484 [==============================] - 7s 15ms/step - loss: 0.5014 - accuracy: 0.8489\n",
            "Epoch 110/150\n",
            "484/484 [==============================] - 7s 15ms/step - loss: 0.4873 - accuracy: 0.8522\n",
            "Epoch 111/150\n",
            "484/484 [==============================] - 7s 15ms/step - loss: 0.4854 - accuracy: 0.8514\n",
            "Epoch 112/150\n",
            "484/484 [==============================] - 7s 15ms/step - loss: 0.4863 - accuracy: 0.8503\n",
            "Epoch 113/150\n",
            "484/484 [==============================] - 7s 15ms/step - loss: 0.4868 - accuracy: 0.8519\n",
            "Epoch 114/150\n",
            "484/484 [==============================] - 7s 15ms/step - loss: 0.4878 - accuracy: 0.8502\n",
            "Epoch 115/150\n",
            "484/484 [==============================] - 7s 15ms/step - loss: 0.4889 - accuracy: 0.8512\n",
            "Epoch 116/150\n",
            "484/484 [==============================] - 7s 15ms/step - loss: 0.4891 - accuracy: 0.8510\n",
            "Epoch 117/150\n",
            "484/484 [==============================] - 7s 15ms/step - loss: 0.4897 - accuracy: 0.8507\n",
            "Epoch 118/150\n",
            "484/484 [==============================] - 7s 15ms/step - loss: 0.4905 - accuracy: 0.8514\n",
            "Epoch 119/150\n",
            "484/484 [==============================] - 7s 15ms/step - loss: 0.4901 - accuracy: 0.8512\n",
            "Epoch 120/150\n",
            "484/484 [==============================] - 7s 15ms/step - loss: 0.4936 - accuracy: 0.8503\n",
            "Epoch 121/150\n",
            "484/484 [==============================] - 7s 15ms/step - loss: 0.5015 - accuracy: 0.8500\n",
            "Epoch 122/150\n",
            "484/484 [==============================] - 7s 15ms/step - loss: 0.5312 - accuracy: 0.8411\n",
            "Epoch 123/150\n",
            "484/484 [==============================] - 7s 15ms/step - loss: 0.4961 - accuracy: 0.8505\n",
            "Epoch 124/150\n",
            "484/484 [==============================] - 7s 15ms/step - loss: 0.4838 - accuracy: 0.8526\n",
            "Epoch 125/150\n",
            "484/484 [==============================] - 7s 15ms/step - loss: 0.4818 - accuracy: 0.8529\n",
            "Epoch 126/150\n",
            "484/484 [==============================] - 7s 15ms/step - loss: 0.4822 - accuracy: 0.8512\n",
            "Epoch 127/150\n",
            "484/484 [==============================] - 7s 15ms/step - loss: 0.4828 - accuracy: 0.8522\n",
            "Epoch 128/150\n",
            "484/484 [==============================] - 7s 15ms/step - loss: 0.4824 - accuracy: 0.8522\n",
            "Epoch 129/150\n",
            "484/484 [==============================] - 7s 15ms/step - loss: 0.4845 - accuracy: 0.8511\n",
            "Epoch 130/150\n",
            "484/484 [==============================] - 7s 15ms/step - loss: 0.4848 - accuracy: 0.8524\n",
            "Epoch 131/150\n",
            "484/484 [==============================] - 7s 15ms/step - loss: 0.4865 - accuracy: 0.8513\n",
            "Epoch 132/150\n",
            "484/484 [==============================] - 7s 15ms/step - loss: 0.4860 - accuracy: 0.8508\n",
            "Epoch 133/150\n",
            "484/484 [==============================] - 7s 15ms/step - loss: 0.4848 - accuracy: 0.8526\n",
            "Epoch 134/150\n",
            "484/484 [==============================] - 7s 15ms/step - loss: 0.4849 - accuracy: 0.8523\n",
            "Epoch 135/150\n",
            "484/484 [==============================] - 7s 15ms/step - loss: 0.4853 - accuracy: 0.8527\n",
            "Epoch 136/150\n",
            "484/484 [==============================] - 7s 15ms/step - loss: 0.5021 - accuracy: 0.8470\n",
            "Epoch 137/150\n",
            "484/484 [==============================] - 7s 15ms/step - loss: 0.5366 - accuracy: 0.8381\n",
            "Epoch 138/150\n",
            "484/484 [==============================] - 7s 15ms/step - loss: 0.4886 - accuracy: 0.8503\n",
            "Epoch 139/150\n",
            "484/484 [==============================] - 7s 15ms/step - loss: 0.4772 - accuracy: 0.8529\n",
            "Epoch 140/150\n",
            "484/484 [==============================] - 7s 15ms/step - loss: 0.4758 - accuracy: 0.8530\n",
            "Epoch 141/150\n",
            "484/484 [==============================] - 7s 15ms/step - loss: 0.4770 - accuracy: 0.8529\n",
            "Epoch 142/150\n",
            "484/484 [==============================] - 7s 15ms/step - loss: 0.4777 - accuracy: 0.8513\n",
            "Epoch 143/150\n",
            "484/484 [==============================] - 7s 15ms/step - loss: 0.4782 - accuracy: 0.8527\n",
            "Epoch 144/150\n",
            "484/484 [==============================] - 7s 15ms/step - loss: 0.4790 - accuracy: 0.8521\n",
            "Epoch 145/150\n",
            "484/484 [==============================] - 7s 15ms/step - loss: 0.4799 - accuracy: 0.8527\n",
            "Epoch 146/150\n",
            "484/484 [==============================] - 7s 15ms/step - loss: 0.4805 - accuracy: 0.8533\n",
            "Epoch 147/150\n",
            "484/484 [==============================] - 7s 15ms/step - loss: 0.4808 - accuracy: 0.8512\n",
            "Epoch 148/150\n",
            "484/484 [==============================] - 7s 15ms/step - loss: 0.4800 - accuracy: 0.8522\n",
            "Epoch 149/150\n",
            "484/484 [==============================] - 7s 15ms/step - loss: 0.4803 - accuracy: 0.8518\n",
            "Epoch 150/150\n",
            "484/484 [==============================] - 7s 15ms/step - loss: 0.4812 - accuracy: 0.8511\n"
          ]
        }
      ],
      "source": [
        "# Get the untrained model\n",
        "model = create_model(total_words, max_sequence_len)\n",
        "\n",
        "# Train the model\n",
        "history = model.fit(features, labels, epochs=150, verbose=1)"
      ]
    },
    {
      "cell_type": "markdown",
      "metadata": {
        "id": "gy72RPgly55q"
      },
      "source": [
        "**To pass this assignment, your model should achieve a training accuracy of at least 80%**. If your model didn't achieve this threshold, try training again with a different model architecture, consider increasing the number of unit in your `LSTM` layer."
      ]
    },
    {
      "cell_type": "code",
      "execution_count": 59,
      "metadata": {
        "id": "1fXTEO3GJ282",
        "colab": {
          "base_uri": "https://localhost:8080/",
          "height": 545
        },
        "outputId": "d743ecd5-47e3-4880-c3ef-4f0ffe328f6d"
      },
      "outputs": [
        {
          "output_type": "display_data",
          "data": {
            "text/plain": [
              "<Figure size 432x288 with 1 Axes>"
            ],
            "image/png": "[encoded data removed]"
          },
          "metadata": {
            "needs_background": "light"
          }
        },
        {
          "output_type": "display_data",
          "data": {
            "text/plain": [
              "<Figure size 432x288 with 1 Axes>"
            ],
            "image/png": "[encoded data removed]"
          },
          "metadata": {
            "needs_background": "light"
          }
        }
      ],
      "source": [
        "# Take a look at the training curves of your model\n",
        "\n",
        "acc = history.history['accuracy']\n",
        "loss = history.history['loss']\n",
        "\n",
        "epochs = range(len(acc))\n",
        "\n",
        "plt.plot(epochs, acc, 'b', label='Training accuracy')\n",
        "plt.title('Training accuracy')\n",
        "\n",
        "plt.figure()\n",
        "\n",
        "plt.plot(epochs, loss, 'b', label='Training Loss')\n",
        "plt.title('Training loss')\n",
        "plt.legend()\n",
        "\n",
        "plt.show()"
      ]
    },
    {
      "cell_type": "markdown",
      "metadata": {
        "id": "OjvED5A3qrn2"
      },
      "source": [
        "Before closing the assignment, be sure to also download the `history.pkl` file which contains the information of the training history of your model and will be used to compute your grade. You can download this file by running the cell below:"
      ]
    },
    {
      "cell_type": "code",
      "execution_count": 62,
      "metadata": {
        "id": "9QRG73l6qE-c",
        "colab": {
          "base_uri": "https://localhost:8080/",
          "height": 17
        },
        "outputId": "2645a2d9-4751-4bc0-fada-2cbd708b1a17"
      },
      "outputs": [
        {
          "output_type": "display_data",
          "data": {
            "text/plain": [
              "<IPython.core.display.Javascript object>"
            ],
            "application/javascript": [
              "\n",
              "    async function download(id, filename, size) {\n",
              "      if (!google.colab.kernel.accessAllowed) {\n",
              "        return;\n",
              "      }\n",
              "      const div = document.createElement('div');\n",
              "      const label = document.createElement('label');\n",
              "      label.textContent = `Downloading \"${filename}\": `;\n",
              "      div.appendChild(label);\n",
              "      const progress = document.createElement('progress');\n",
              "      progress.max = size;\n",
              "      div.appendChild(progress);\n",
              "      document.body.appendChild(div);\n",
              "\n",
              "      const buffers = [];\n",
              "      let downloaded = 0;\n",
              "\n",
              "      const channel = await google.colab.kernel.comms.open(id);\n",
              "      // Send a message to notify the kernel that we're ready.\n",
              "      channel.send({})\n",
              "\n",
              "      for await (const message of channel.messages) {\n",
              "        // Send a message to notify the kernel that we're ready.\n",
              "        channel.send({})\n",
              "        if (message.buffers) {\n",
              "          for (const buffer of message.buffers) {\n",
              "            buffers.push(buffer);\n",
              "            downloaded += buffer.byteLength;\n",
              "            progress.value = downloaded;\n",
              "          }\n",
              "        }\n",
              "      }\n",
              "      const blob = new Blob(buffers, {type: 'application/binary'});\n",
              "      const a = document.createElement('a');\n",
              "      a.href = window.URL.createObjectURL(blob);\n",
              "      a.download = filename;\n",
              "      div.appendChild(a);\n",
              "      a.click();\n",
              "      div.remove();\n",
              "    }\n",
              "  "
            ]
          },
          "metadata": {}
        },
        {
          "output_type": "display_data",
          "data": {
            "text/plain": [
              "<IPython.core.display.Javascript object>"
            ],
            "application/javascript": [
              "download(\"download_6117e9a9-9742-4f84-81d2-dc13565e0a3c\", \"history.pkl\", 2744)"
            ]
          },
          "metadata": {}
        }
      ],
      "source": [
        "def download_history():\n",
        "  import pickle\n",
        "  from google.colab import files\n",
        "\n",
        "  with open('history.pkl', 'wb') as f:\n",
        "    pickle.dump(history.history, f)\n",
        "\n",
        "  files.download('history.pkl')\n",
        "\n",
        "download_history()"
      ]
    },
    {
      "cell_type": "markdown",
      "metadata": {
        "id": "wdsMszk9zBs_"
      },
      "source": [
        "## See your model in action\n",
        "\n",
        "After all your work it is finally time to see your model generating text. \n",
        "\n",
        "Run the cell below to generate the next 100 words of a seed text.\n",
        "\n",
        "After submitting your assignment you are encouraged to try out training for different amounts of epochs and seeing how this affects the coherency of the generated text. Also try changing the seed text to see what you get!"
      ]
    },
    {
      "cell_type": "code",
      "execution_count": 63,
      "metadata": {
        "id": "6Vc6PHgxa6Hm",
        "colab": {
          "base_uri": "https://localhost:8080/"
        },
        "outputId": "26e49d92-347e-4df7-9766-ba2d2e0fb498"
      },
      "outputs": [
        {
          "output_type": "stream",
          "name": "stdout",
          "text": [
            "Help me Obi Wan Kenobi, you're my only hope to the place to sing forgetful with sight alone confound imprison'd hate so bad she unworthiness green me alone write repair so true alone call true ' varying it still in rolling at thee had forth more or bed war bail farthest new ' divide ' salve can firm soul forth old words in brought to time's sleeping night ' breast to lie it to register be again care alone old time of folly part situation it lie than thee i lie of stormy love me lies show thee accusing thy skill ' though out ' alone did see blind\n"
          ]
        }
      ],
      "source": [
        "seed_text = \"Help me Obi Wan Kenobi, you're my only hope\"\n",
        "next_words = 100\n",
        "  \n",
        "for _ in range(next_words):\n",
        "\t# Convert the text into sequences\n",
        "\ttoken_list = tokenizer.texts_to_sequences([seed_text])[0]\n",
        "\t# Pad the sequences\n",
        "\ttoken_list = pad_sequences([token_list], maxlen=max_sequence_len-1, padding='pre')\n",
        "\t# Get the probabilities of predicting a word\n",
        "\tpredicted = model.predict(token_list, verbose=0)\n",
        "\t# Choose the next word based on the maximum probability\n",
        "\tpredicted = np.argmax(predicted, axis=-1).item()\n",
        "\t# Get the actual word from the word index\n",
        "\toutput_word = tokenizer.index_word[predicted]\n",
        "\t# Append to the current text\n",
        "\tseed_text += \" \" + output_word\n",
        "\n",
        "print(seed_text)"
      ]
    },
    {
      "cell_type": "markdown",
      "metadata": {
        "id": "oQVDbdcYqSux"
      },
      "source": [
        "You will also need to submit this notebook for grading. To download it, click on the File tab in the upper left corner of the screen then click on Download -> Download .ipynb. You can name it anything you want as long as it is a valid .ipynb (jupyter notebook) file.\n",
        "\n",
        "**Congratulations on finishing this week's assignment!**\n",
        "\n",
        "You have successfully implemented a neural network capable of predicting the next word in a sequence of text!\n",
        "\n",
        "**We hope to see you in the next course of the specialization! Keep it up!**"
      ]
    }
  ],
  "metadata": {
    "jupytext": {
      "main_language": "python"
    },
    "accelerator": "GPU",
    "kernelspec": {
      "display_name": "Python 3",
      "name": "python3"
    },
    "colab": {
      "name": "C3W4_Assignment.ipynb",
      "provenance": [],
      "collapsed_sections": []
    }
  },
  "nbformat": 4,
  "nbformat_minor": 0
}